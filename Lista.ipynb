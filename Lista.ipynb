{
 "cells": [
  {
   "cell_type": "markdown",
   "metadata": {},
   "source": [
    "##   Clase para  crear un nodo"
   ]
  },
  {
   "cell_type": "code",
   "execution_count": 3,
   "metadata": {},
   "outputs": [],
   "source": [
    "class Nodo(object):\n",
    "    def _init_(self, elemento):\n",
    "        #atributo que tendra el nodo\n",
    "        self._elemento=elemento\n",
    "        #self.childs = list()\n",
    "        self._pSig=None\n",
    "    def getElemento(self):\n",
    "        return self._elemento"
   ]
  },
  {
   "cell_type": "markdown",
   "metadata": {},
   "source": [
    "##   Clase lista"
   ]
  },
  {
   "cell_type": "code",
   "execution_count": 10,
   "metadata": {},
   "outputs": [],
   "source": [
    "\n",
    "CN= Nodo\n",
    "#clase de Lista\n",
    "\n",
    "class ListaSimple(object):\n",
    "    def _init_(self):\n",
    "        self._primero= None\n",
    "        self._ultimo= None\n",
    "    def getVacio(self):\n",
    "        if self._primero==None:\n",
    "            return True\n",
    "    def setNodoI(self, elemento):\n",
    "        nuevo = CN.Nodo(elemento)\n",
    "        if self.getVacio()== True:\n",
    "            self._primero= self._ultimo= nuevo\n",
    "        else:\n",
    "            nuevo.pSig = self._primero\n",
    "            self._primero= nuevo\n",
    "    def setNodoF(self,elemento):\n",
    "        nuevo =CN.Nodo(elemento)\n",
    "        if self.getVacio()== True:\n",
    "            self._primero =self._ultimo=nuevo\n",
    "        else:\n",
    "            self._ultimo.pSig = nuevo\n",
    "            self._ultimo= nuevo\n",
    "    \n",
    "    def ePrimero(self):\n",
    "        if self.getVacio()== True:\n",
    "            print(\"lista vacia, no se puede eliminar\")\n",
    "            return None\n",
    "        elif self._primero == self._ultimo:\n",
    "            self._primero = None\n",
    "            self._ultimo= None\n",
    "            print(\"Elemento eliminado, la lista esta vacia\")\n",
    "        else:\n",
    "            temp=self._primero\n",
    "            self.primero = self._primero.pSig\n",
    "            temp = None\n",
    "            print(\"Elemento eliminado\")\n",
    "            \n",
    "    def getNodo(self):\n",
    "        if self.getVacio()== True:\n",
    "            return None\n",
    "        else:\n",
    "            return self._primero\n",
    "        \n",
    "    def imprimerLista(self):\n",
    "        if self.getVacio()==True:\n",
    "            return None\n",
    "        else:\n",
    "            validar = True\n",
    "            temp= self._ptimero\n",
    "            while(validar):\n",
    "                print(temp.getElemento())\n",
    "                if temp == self._ultimo:\n",
    "                    validar = False\n",
    "                else:\n",
    "                    temp = temp.pSig\n",
    "                    "
   ]
  },
  {
   "cell_type": "code",
   "execution_count": null,
   "metadata": {},
   "outputs": [],
   "source": []
  },
  {
   "cell_type": "code",
   "execution_count": null,
   "metadata": {},
   "outputs": [],
   "source": []
  }
 ],
 "metadata": {
  "kernelspec": {
   "display_name": "Python 3",
   "language": "python",
   "name": "python3"
  },
  "language_info": {
   "codemirror_mode": {
    "name": "ipython",
    "version": 3
   },
   "file_extension": ".py",
   "mimetype": "text/x-python",
   "name": "python",
   "nbconvert_exporter": "python",
   "pygments_lexer": "ipython3",
   "version": "3.6.5"
  }
 },
 "nbformat": 4,
 "nbformat_minor": 2
}
